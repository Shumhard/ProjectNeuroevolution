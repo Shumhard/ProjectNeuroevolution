{
  "nbformat": 4,
  "nbformat_minor": 0,
  "metadata": {
    "colab": {
      "name": "NCL_Khayrov.ipynb",
      "provenance": [],
      "collapsed_sections": [],
      "authorship_tag": "ABX9TyOE/e3uoa8OExU4dIKeMFRi",
      "include_colab_link": true
    },
    "kernelspec": {
      "name": "python3",
      "display_name": "Python 3"
    }
  },
  "cells": [
    {
      "cell_type": "markdown",
      "metadata": {
        "id": "view-in-github",
        "colab_type": "text"
      },
      "source": [
        "<a href=\"https://colab.research.google.com/github/RelaxingCoyote/NEUROEV/blob/main/NCL_Khayrov.ipynb\" target=\"_parent\"><img src=\"https://colab.research.google.com/assets/colab-badge.svg\" alt=\"Open In Colab\"/></a>"
      ]
    },
    {
      "cell_type": "markdown",
      "metadata": {
        "id": "4AF9porDi__B"
      },
      "source": [
        "#Нейроэволюционные вычисления"
      ]
    },
    {
      "cell_type": "markdown",
      "metadata": {
        "id": "MSdEKikMh9kf"
      },
      "source": [
        "[![Open In Colab](https://colab.research.google.com/assets/colab-badge.svg)](https://colab.research.google.com/drive/1-EpdWG47AK3_W6bAYBrHNKM6vCYej-O3#scrollTo=MSdEKikMh9kf)"
      ]
    },
    {
      "cell_type": "markdown",
      "metadata": {
        "id": "cyZW6dD7o4Qm"
      },
      "source": [
        "Подключаем гугл-диск."
      ]
    },
    {
      "cell_type": "code",
      "metadata": {
        "colab": {
          "base_uri": "https://localhost:8080/"
        },
        "id": "CV4aRBkQiDtP",
        "outputId": "bd1a447d-ff42-420a-d8b9-09124d5855fc"
      },
      "source": [
        "from google.colab import drive\n",
        "drive.mount(\"/content/gdrive\", force_remount=True)"
      ],
      "execution_count": 1,
      "outputs": [
        {
          "output_type": "stream",
          "text": [
            "Mounted at /content/gdrive\n"
          ],
          "name": "stdout"
        }
      ]
    },
    {
      "cell_type": "markdown",
      "metadata": {
        "id": "XbAVhccypAuD"
      },
      "source": [
        "Устанавливаем пакет Datatable."
      ]
    },
    {
      "cell_type": "code",
      "metadata": {
        "colab": {
          "base_uri": "https://localhost:8080/"
        },
        "id": "kddRjrRGOnxL",
        "outputId": "c173b1d9-45f9-4927-8691-2951b0631058"
      },
      "source": [
        "pip install datatable"
      ],
      "execution_count": 2,
      "outputs": [
        {
          "output_type": "stream",
          "text": [
            "Requirement already satisfied: datatable in /usr/local/lib/python3.7/dist-packages (0.11.1)\n"
          ],
          "name": "stdout"
        }
      ]
    },
    {
      "cell_type": "markdown",
      "metadata": {
        "id": "4UaEi4RfpLeJ"
      },
      "source": [
        "Импортируем необходимые библиотеки."
      ]
    },
    {
      "cell_type": "code",
      "metadata": {
        "colab": {
          "base_uri": "https://localhost:8080/"
        },
        "id": "aFLNrkClOqeh",
        "outputId": "fa60992f-3dd8-48b9-aff4-159fcdb4fb2a"
      },
      "source": [
        "import datatable as dt\n",
        "print(dt.__version__)"
      ],
      "execution_count": 3,
      "outputs": [
        {
          "output_type": "stream",
          "text": [
            "0.11.1\n"
          ],
          "name": "stdout"
        }
      ]
    },
    {
      "cell_type": "markdown",
      "metadata": {
        "id": "_uGr2In2piTi"
      },
      "source": [
        "Загружаем набор данных."
      ]
    },
    {
      "cell_type": "code",
      "metadata": {
        "colab": {
          "base_uri": "https://localhost:8080/",
          "height": 925
        },
        "id": "FMmbw_CJPE-i",
        "outputId": "36fbbcc4-cf37-4f06-c602-4839ec3599aa"
      },
      "source": [
        "DT = dt.fread('/content/gdrive/MyDrive/Machine Learning/NEUROEV/cancer1.dt')\n",
        "DT"
      ],
      "execution_count": 4,
      "outputs": [
        {
          "output_type": "stream",
          "text": [
            "    | C0                         C1    C2    C3    C4    C5    C6    C7    C8  C9  C10\n",
            "--- + -----------------------  ----  ----  ----  ----  ----  ----  ----  ----  --  ---\n",
            "  0 | bool_in=0                NA    NA    NA    NA    NA    NA    NA    NA    NA   NA\n",
            "  1 | real_in=9                NA    NA    NA    NA    NA    NA    NA    NA    NA   NA\n",
            "  2 | bool_out=2               NA    NA    NA    NA    NA    NA    NA    NA    NA   NA\n",
            "  3 | real_out=0               NA    NA    NA    NA    NA    NA    NA    NA    NA   NA\n",
            "  4 | training_examples=350    NA    NA    NA    NA    NA    NA    NA    NA    NA   NA\n",
            "  5 | validation_examples=175  NA    NA    NA    NA    NA    NA    NA    NA    NA   NA\n",
            "  6 | test_examples=174        NA    NA    NA    NA    NA    NA    NA    NA    NA   NA\n",
            "  7 | 0.2                       0.1   0.1   0.1   0.2   0.1   0.2   0.1   0.1   1    0\n",
            "  8 | 0.2                       0.1   0.1   0.1   0.2   0.1   0.3   0.1   0.1   1    0\n",
            "  9 | 0.5                       0.1   0.1   0.1   0.2   0.1   0.2   0.1   0.1   1    0\n",
            " 10 | 0.5                       0.4   0.6   0.8   0.4   0.1   0.8   1     0.1   0    1\n",
            " 11 | 0.5                       0.3   0.3   0.1   0.2   0.1   0.2   0.1   0.1   1    0\n",
            " 12 | 0.2                       0.3   0.1   0.1   0.3   0.1   0.1   0.1   0.1   1    0\n",
            " 13 | 0.3                       0.5   0.7   0.8   0.8   0.9   0.7   1     0.7   0    1\n",
            " 14 | 1                         0.5   0.6   1     0.6   1     0.7   0.7   1     0    1\n",
            "  … | …                           …     …     …     …     …     …     …     …   …    …\n",
            "701 | 0.5                       0.1   0.2   0.1   0.2   0.1   0.1   0.1   0.1   1    0\n",
            "702 | 0.7                       0.5   0.6   1     0.5   1     0.7   0.9   0.4   0    1\n",
            "703 | 0.6                       1     1     1     0.8   1     0.7   1     0.7   0    1\n",
            "704 | 0.5                       0.7   1     1     0.5   1     1     1     0.1   0    1\n",
            "705 | 0.1                       0.1   0.1   0.1   0.2   0.1   0.2   0.1   0.1   1    0\n",
            "\n",
            "[706 rows x 11 columns]\n"
          ],
          "name": "stdout"
        },
        {
          "output_type": "execute_result",
          "data": {
            "text/html": [
              "<div class='datatable'>\n",
              "  <table class='frame'>\n",
              "  <thead>\n",
              "    <tr class='colnames'><td class='row_index'></td><th>C0</th><th>C1</th><th>C2</th><th>C3</th><th>C4</th><th>C5</th><th>C6</th><th>C7</th><th>C8</th><th>C9</th><th>C10</th></tr>\n",
              "    <tr class='coltypes'><td class='row_index'></td><td class='str' title='str32'>&#x25AA;&#x25AA;&#x25AA;&#x25AA;</td><td class='float' title='float64'>&#x25AA;&#x25AA;&#x25AA;&#x25AA;&#x25AA;&#x25AA;&#x25AA;&#x25AA;</td><td class='float' title='float64'>&#x25AA;&#x25AA;&#x25AA;&#x25AA;&#x25AA;&#x25AA;&#x25AA;&#x25AA;</td><td class='float' title='float64'>&#x25AA;&#x25AA;&#x25AA;&#x25AA;&#x25AA;&#x25AA;&#x25AA;&#x25AA;</td><td class='float' title='float64'>&#x25AA;&#x25AA;&#x25AA;&#x25AA;&#x25AA;&#x25AA;&#x25AA;&#x25AA;</td><td class='float' title='float64'>&#x25AA;&#x25AA;&#x25AA;&#x25AA;&#x25AA;&#x25AA;&#x25AA;&#x25AA;</td><td class='float' title='float64'>&#x25AA;&#x25AA;&#x25AA;&#x25AA;&#x25AA;&#x25AA;&#x25AA;&#x25AA;</td><td class='float' title='float64'>&#x25AA;&#x25AA;&#x25AA;&#x25AA;&#x25AA;&#x25AA;&#x25AA;&#x25AA;</td><td class='float' title='float64'>&#x25AA;&#x25AA;&#x25AA;&#x25AA;&#x25AA;&#x25AA;&#x25AA;&#x25AA;</td><td class='bool' title='bool8'>&#x25AA;</td><td class='bool' title='bool8'>&#x25AA;</td></tr>\n",
              "  </thead>\n",
              "  <tbody>\n",
              "    <tr><td class='row_index'>0</td><td>bool_in=0</td><td><span class=na>NA</span></td><td><span class=na>NA</span></td><td><span class=na>NA</span></td><td><span class=na>NA</span></td><td><span class=na>NA</span></td><td><span class=na>NA</span></td><td><span class=na>NA</span></td><td><span class=na>NA</span></td><td><span class=na>NA</span></td><td><span class=na>NA</span></td></tr>\n",
              "    <tr><td class='row_index'>1</td><td>real_in=9</td><td><span class=na>NA</span></td><td><span class=na>NA</span></td><td><span class=na>NA</span></td><td><span class=na>NA</span></td><td><span class=na>NA</span></td><td><span class=na>NA</span></td><td><span class=na>NA</span></td><td><span class=na>NA</span></td><td><span class=na>NA</span></td><td><span class=na>NA</span></td></tr>\n",
              "    <tr><td class='row_index'>2</td><td>bool_out=2</td><td><span class=na>NA</span></td><td><span class=na>NA</span></td><td><span class=na>NA</span></td><td><span class=na>NA</span></td><td><span class=na>NA</span></td><td><span class=na>NA</span></td><td><span class=na>NA</span></td><td><span class=na>NA</span></td><td><span class=na>NA</span></td><td><span class=na>NA</span></td></tr>\n",
              "    <tr><td class='row_index'>3</td><td>real_out=0</td><td><span class=na>NA</span></td><td><span class=na>NA</span></td><td><span class=na>NA</span></td><td><span class=na>NA</span></td><td><span class=na>NA</span></td><td><span class=na>NA</span></td><td><span class=na>NA</span></td><td><span class=na>NA</span></td><td><span class=na>NA</span></td><td><span class=na>NA</span></td></tr>\n",
              "    <tr><td class='row_index'>4</td><td>training_examples=350</td><td><span class=na>NA</span></td><td><span class=na>NA</span></td><td><span class=na>NA</span></td><td><span class=na>NA</span></td><td><span class=na>NA</span></td><td><span class=na>NA</span></td><td><span class=na>NA</span></td><td><span class=na>NA</span></td><td><span class=na>NA</span></td><td><span class=na>NA</span></td></tr>\n",
              "    <tr><td class='row_index'>5</td><td>validation_examples=175</td><td><span class=na>NA</span></td><td><span class=na>NA</span></td><td><span class=na>NA</span></td><td><span class=na>NA</span></td><td><span class=na>NA</span></td><td><span class=na>NA</span></td><td><span class=na>NA</span></td><td><span class=na>NA</span></td><td><span class=na>NA</span></td><td><span class=na>NA</span></td></tr>\n",
              "    <tr><td class='row_index'>6</td><td>test_examples=174</td><td><span class=na>NA</span></td><td><span class=na>NA</span></td><td><span class=na>NA</span></td><td><span class=na>NA</span></td><td><span class=na>NA</span></td><td><span class=na>NA</span></td><td><span class=na>NA</span></td><td><span class=na>NA</span></td><td><span class=na>NA</span></td><td><span class=na>NA</span></td></tr>\n",
              "    <tr><td class='row_index'>7</td><td>0.2</td><td>0.1</td><td>0.1</td><td>0.1</td><td>0.2</td><td>0.1</td><td>0.2</td><td>0.1</td><td>0.1</td><td>1</td><td>0</td></tr>\n",
              "    <tr><td class='row_index'>8</td><td>0.2</td><td>0.1</td><td>0.1</td><td>0.1</td><td>0.2</td><td>0.1</td><td>0.3</td><td>0.1</td><td>0.1</td><td>1</td><td>0</td></tr>\n",
              "    <tr><td class='row_index'>9</td><td>0.5</td><td>0.1</td><td>0.1</td><td>0.1</td><td>0.2</td><td>0.1</td><td>0.2</td><td>0.1</td><td>0.1</td><td>1</td><td>0</td></tr>\n",
              "    <tr><td class='row_index'>10</td><td>0.5</td><td>0.4</td><td>0.6</td><td>0.8</td><td>0.4</td><td>0.1</td><td>0.8</td><td>1</td><td>0.1</td><td>0</td><td>1</td></tr>\n",
              "    <tr><td class='row_index'>11</td><td>0.5</td><td>0.3</td><td>0.3</td><td>0.1</td><td>0.2</td><td>0.1</td><td>0.2</td><td>0.1</td><td>0.1</td><td>1</td><td>0</td></tr>\n",
              "    <tr><td class='row_index'>12</td><td>0.2</td><td>0.3</td><td>0.1</td><td>0.1</td><td>0.3</td><td>0.1</td><td>0.1</td><td>0.1</td><td>0.1</td><td>1</td><td>0</td></tr>\n",
              "    <tr><td class='row_index'>13</td><td>0.3</td><td>0.5</td><td>0.7</td><td>0.8</td><td>0.8</td><td>0.9</td><td>0.7</td><td>1</td><td>0.7</td><td>0</td><td>1</td></tr>\n",
              "    <tr><td class='row_index'>14</td><td>1</td><td>0.5</td><td>0.6</td><td>1</td><td>0.6</td><td>1</td><td>0.7</td><td>0.7</td><td>1</td><td>0</td><td>1</td></tr>\n",
              "    <tr><td class='row_index'>&#x22EE;</td><td class='hellipsis'>&#x22EE;</td><td class='hellipsis'>&#x22EE;</td><td class='hellipsis'>&#x22EE;</td><td class='hellipsis'>&#x22EE;</td><td class='hellipsis'>&#x22EE;</td><td class='hellipsis'>&#x22EE;</td><td class='hellipsis'>&#x22EE;</td><td class='hellipsis'>&#x22EE;</td><td class='hellipsis'>&#x22EE;</td><td class='hellipsis'>&#x22EE;</td><td class='hellipsis'>&#x22EE;</td></tr>\n",
              "    <tr><td class='row_index'>701</td><td>0.5</td><td>0.1</td><td>0.2</td><td>0.1</td><td>0.2</td><td>0.1</td><td>0.1</td><td>0.1</td><td>0.1</td><td>1</td><td>0</td></tr>\n",
              "    <tr><td class='row_index'>702</td><td>0.7</td><td>0.5</td><td>0.6</td><td>1</td><td>0.5</td><td>1</td><td>0.7</td><td>0.9</td><td>0.4</td><td>0</td><td>1</td></tr>\n",
              "    <tr><td class='row_index'>703</td><td>0.6</td><td>1</td><td>1</td><td>1</td><td>0.8</td><td>1</td><td>0.7</td><td>1</td><td>0.7</td><td>0</td><td>1</td></tr>\n",
              "    <tr><td class='row_index'>704</td><td>0.5</td><td>0.7</td><td>1</td><td>1</td><td>0.5</td><td>1</td><td>1</td><td>1</td><td>0.1</td><td>0</td><td>1</td></tr>\n",
              "    <tr><td class='row_index'>705</td><td>0.1</td><td>0.1</td><td>0.1</td><td>0.1</td><td>0.2</td><td>0.1</td><td>0.2</td><td>0.1</td><td>0.1</td><td>1</td><td>0</td></tr>\n",
              "  </tbody>\n",
              "  </table>\n",
              "  <div class='footer'>\n",
              "    <div class='frame_dimensions'>706 rows &times; 11 columns</div>\n",
              "  </div>\n",
              "</div>\n"
            ],
            "text/plain": [
              ""
            ]
          },
          "metadata": {
            "tags": []
          },
          "execution_count": 4
        }
      ]
    },
    {
      "cell_type": "markdown",
      "metadata": {
        "id": "eiXAHuhhpo_C"
      },
      "source": [
        "Очистим набор данных от лишних столбцов."
      ]
    },
    {
      "cell_type": "code",
      "metadata": {
        "colab": {
          "base_uri": "https://localhost:8080/",
          "height": 925
        },
        "id": "zRhY721si0sL",
        "outputId": "678666a2-c3eb-4714-88f4-03e148ece098"
      },
      "source": [
        "del DT[0:7,:]\n",
        "DT"
      ],
      "execution_count": 5,
      "outputs": [
        {
          "output_type": "stream",
          "text": [
            "    | C0    C1   C2   C3   C4   C5   C6   C7   C8  C9  C10\n",
            "--- + ---  ---  ---  ---  ---  ---  ---  ---  ---  --  ---\n",
            "  0 | 0.2  0.1  0.1  0.1  0.2  0.1  0.2  0.1  0.1   1    0\n",
            "  1 | 0.2  0.1  0.1  0.1  0.2  0.1  0.3  0.1  0.1   1    0\n",
            "  2 | 0.5  0.1  0.1  0.1  0.2  0.1  0.2  0.1  0.1   1    0\n",
            "  3 | 0.5  0.4  0.6  0.8  0.4  0.1  0.8  1    0.1   0    1\n",
            "  4 | 0.5  0.3  0.3  0.1  0.2  0.1  0.2  0.1  0.1   1    0\n",
            "  5 | 0.2  0.3  0.1  0.1  0.3  0.1  0.1  0.1  0.1   1    0\n",
            "  6 | 0.3  0.5  0.7  0.8  0.8  0.9  0.7  1    0.7   0    1\n",
            "  7 | 1    0.5  0.6  1    0.6  1    0.7  0.7  1     0    1\n",
            "  8 | 1    0.9  0.8  0.7  0.6  0.4  0.7  1    0.3   0    1\n",
            "  9 | 0.4  0.1  0.1  0.1  0.2  0.1  0.3  0.1  0.1   1    0\n",
            " 10 | 0.5  0.1  0.1  0.1  0.2  0.1  0.3  0.1  0.1   1    0\n",
            " 11 | 0.8  1    1    0.1  0.3  0.6  0.3  0.9  0.1   0    1\n",
            " 12 | 0.1  0.1  0.3  0.1  0.2  0.1  0.2  0.1  0.1   1    0\n",
            " 13 | 0.1  0.1  0.1  0.2  0.1  0.1  0.1  0.1  0.1   1    0\n",
            " 14 | 0.3  0.4  0.5  0.2  0.6  0.8  0.4  0.1  0.1   0    1\n",
            "  … | …      …    …    …    …    …    …    …    …   …    …\n",
            "694 | 0.5  0.1  0.2  0.1  0.2  0.1  0.1  0.1  0.1   1    0\n",
            "695 | 0.7  0.5  0.6  1    0.5  1    0.7  0.9  0.4   0    1\n",
            "696 | 0.6  1    1    1    0.8  1    0.7  1    0.7   0    1\n",
            "697 | 0.5  0.7  1    1    0.5  1    1    1    0.1   0    1\n",
            "698 | 0.1  0.1  0.1  0.1  0.2  0.1  0.2  0.1  0.1   1    0\n",
            "\n",
            "[699 rows x 11 columns]\n"
          ],
          "name": "stdout"
        },
        {
          "output_type": "execute_result",
          "data": {
            "text/html": [
              "<div class='datatable'>\n",
              "  <table class='frame'>\n",
              "  <thead>\n",
              "    <tr class='colnames'><td class='row_index'></td><th>C0</th><th>C1</th><th>C2</th><th>C3</th><th>C4</th><th>C5</th><th>C6</th><th>C7</th><th>C8</th><th>C9</th><th>C10</th></tr>\n",
              "    <tr class='coltypes'><td class='row_index'></td><td class='str' title='str32'>&#x25AA;&#x25AA;&#x25AA;&#x25AA;</td><td class='float' title='float64'>&#x25AA;&#x25AA;&#x25AA;&#x25AA;&#x25AA;&#x25AA;&#x25AA;&#x25AA;</td><td class='float' title='float64'>&#x25AA;&#x25AA;&#x25AA;&#x25AA;&#x25AA;&#x25AA;&#x25AA;&#x25AA;</td><td class='float' title='float64'>&#x25AA;&#x25AA;&#x25AA;&#x25AA;&#x25AA;&#x25AA;&#x25AA;&#x25AA;</td><td class='float' title='float64'>&#x25AA;&#x25AA;&#x25AA;&#x25AA;&#x25AA;&#x25AA;&#x25AA;&#x25AA;</td><td class='float' title='float64'>&#x25AA;&#x25AA;&#x25AA;&#x25AA;&#x25AA;&#x25AA;&#x25AA;&#x25AA;</td><td class='float' title='float64'>&#x25AA;&#x25AA;&#x25AA;&#x25AA;&#x25AA;&#x25AA;&#x25AA;&#x25AA;</td><td class='float' title='float64'>&#x25AA;&#x25AA;&#x25AA;&#x25AA;&#x25AA;&#x25AA;&#x25AA;&#x25AA;</td><td class='float' title='float64'>&#x25AA;&#x25AA;&#x25AA;&#x25AA;&#x25AA;&#x25AA;&#x25AA;&#x25AA;</td><td class='bool' title='bool8'>&#x25AA;</td><td class='bool' title='bool8'>&#x25AA;</td></tr>\n",
              "  </thead>\n",
              "  <tbody>\n",
              "    <tr><td class='row_index'>0</td><td>0.2</td><td>0.1</td><td>0.1</td><td>0.1</td><td>0.2</td><td>0.1</td><td>0.2</td><td>0.1</td><td>0.1</td><td>1</td><td>0</td></tr>\n",
              "    <tr><td class='row_index'>1</td><td>0.2</td><td>0.1</td><td>0.1</td><td>0.1</td><td>0.2</td><td>0.1</td><td>0.3</td><td>0.1</td><td>0.1</td><td>1</td><td>0</td></tr>\n",
              "    <tr><td class='row_index'>2</td><td>0.5</td><td>0.1</td><td>0.1</td><td>0.1</td><td>0.2</td><td>0.1</td><td>0.2</td><td>0.1</td><td>0.1</td><td>1</td><td>0</td></tr>\n",
              "    <tr><td class='row_index'>3</td><td>0.5</td><td>0.4</td><td>0.6</td><td>0.8</td><td>0.4</td><td>0.1</td><td>0.8</td><td>1</td><td>0.1</td><td>0</td><td>1</td></tr>\n",
              "    <tr><td class='row_index'>4</td><td>0.5</td><td>0.3</td><td>0.3</td><td>0.1</td><td>0.2</td><td>0.1</td><td>0.2</td><td>0.1</td><td>0.1</td><td>1</td><td>0</td></tr>\n",
              "    <tr><td class='row_index'>5</td><td>0.2</td><td>0.3</td><td>0.1</td><td>0.1</td><td>0.3</td><td>0.1</td><td>0.1</td><td>0.1</td><td>0.1</td><td>1</td><td>0</td></tr>\n",
              "    <tr><td class='row_index'>6</td><td>0.3</td><td>0.5</td><td>0.7</td><td>0.8</td><td>0.8</td><td>0.9</td><td>0.7</td><td>1</td><td>0.7</td><td>0</td><td>1</td></tr>\n",
              "    <tr><td class='row_index'>7</td><td>1</td><td>0.5</td><td>0.6</td><td>1</td><td>0.6</td><td>1</td><td>0.7</td><td>0.7</td><td>1</td><td>0</td><td>1</td></tr>\n",
              "    <tr><td class='row_index'>8</td><td>1</td><td>0.9</td><td>0.8</td><td>0.7</td><td>0.6</td><td>0.4</td><td>0.7</td><td>1</td><td>0.3</td><td>0</td><td>1</td></tr>\n",
              "    <tr><td class='row_index'>9</td><td>0.4</td><td>0.1</td><td>0.1</td><td>0.1</td><td>0.2</td><td>0.1</td><td>0.3</td><td>0.1</td><td>0.1</td><td>1</td><td>0</td></tr>\n",
              "    <tr><td class='row_index'>10</td><td>0.5</td><td>0.1</td><td>0.1</td><td>0.1</td><td>0.2</td><td>0.1</td><td>0.3</td><td>0.1</td><td>0.1</td><td>1</td><td>0</td></tr>\n",
              "    <tr><td class='row_index'>11</td><td>0.8</td><td>1</td><td>1</td><td>0.1</td><td>0.3</td><td>0.6</td><td>0.3</td><td>0.9</td><td>0.1</td><td>0</td><td>1</td></tr>\n",
              "    <tr><td class='row_index'>12</td><td>0.1</td><td>0.1</td><td>0.3</td><td>0.1</td><td>0.2</td><td>0.1</td><td>0.2</td><td>0.1</td><td>0.1</td><td>1</td><td>0</td></tr>\n",
              "    <tr><td class='row_index'>13</td><td>0.1</td><td>0.1</td><td>0.1</td><td>0.2</td><td>0.1</td><td>0.1</td><td>0.1</td><td>0.1</td><td>0.1</td><td>1</td><td>0</td></tr>\n",
              "    <tr><td class='row_index'>14</td><td>0.3</td><td>0.4</td><td>0.5</td><td>0.2</td><td>0.6</td><td>0.8</td><td>0.4</td><td>0.1</td><td>0.1</td><td>0</td><td>1</td></tr>\n",
              "    <tr><td class='row_index'>&#x22EE;</td><td class='hellipsis'>&#x22EE;</td><td class='hellipsis'>&#x22EE;</td><td class='hellipsis'>&#x22EE;</td><td class='hellipsis'>&#x22EE;</td><td class='hellipsis'>&#x22EE;</td><td class='hellipsis'>&#x22EE;</td><td class='hellipsis'>&#x22EE;</td><td class='hellipsis'>&#x22EE;</td><td class='hellipsis'>&#x22EE;</td><td class='hellipsis'>&#x22EE;</td><td class='hellipsis'>&#x22EE;</td></tr>\n",
              "    <tr><td class='row_index'>694</td><td>0.5</td><td>0.1</td><td>0.2</td><td>0.1</td><td>0.2</td><td>0.1</td><td>0.1</td><td>0.1</td><td>0.1</td><td>1</td><td>0</td></tr>\n",
              "    <tr><td class='row_index'>695</td><td>0.7</td><td>0.5</td><td>0.6</td><td>1</td><td>0.5</td><td>1</td><td>0.7</td><td>0.9</td><td>0.4</td><td>0</td><td>1</td></tr>\n",
              "    <tr><td class='row_index'>696</td><td>0.6</td><td>1</td><td>1</td><td>1</td><td>0.8</td><td>1</td><td>0.7</td><td>1</td><td>0.7</td><td>0</td><td>1</td></tr>\n",
              "    <tr><td class='row_index'>697</td><td>0.5</td><td>0.7</td><td>1</td><td>1</td><td>0.5</td><td>1</td><td>1</td><td>1</td><td>0.1</td><td>0</td><td>1</td></tr>\n",
              "    <tr><td class='row_index'>698</td><td>0.1</td><td>0.1</td><td>0.1</td><td>0.1</td><td>0.2</td><td>0.1</td><td>0.2</td><td>0.1</td><td>0.1</td><td>1</td><td>0</td></tr>\n",
              "  </tbody>\n",
              "  </table>\n",
              "  <div class='footer'>\n",
              "    <div class='frame_dimensions'>699 rows &times; 11 columns</div>\n",
              "  </div>\n",
              "</div>\n"
            ],
            "text/plain": [
              ""
            ]
          },
          "metadata": {
            "tags": []
          },
          "execution_count": 5
        }
      ]
    },
    {
      "cell_type": "markdown",
      "metadata": {
        "id": "Utr47zvyp3co"
      },
      "source": [
        "Представим набор данных в виде DataFrame Pandas."
      ]
    },
    {
      "cell_type": "code",
      "metadata": {
        "id": "eUxUUqVfleOm",
        "colab": {
          "base_uri": "https://localhost:8080/",
          "height": 417
        },
        "outputId": "ba56f06f-e45e-4c05-d3db-b28e4622759a"
      },
      "source": [
        "import pandas as pd\n",
        "df = pd.DataFrame(DT.to_pandas())\n",
        "df"
      ],
      "execution_count": 6,
      "outputs": [
        {
          "output_type": "execute_result",
          "data": {
            "text/html": [
              "<div>\n",
              "<style scoped>\n",
              "    .dataframe tbody tr th:only-of-type {\n",
              "        vertical-align: middle;\n",
              "    }\n",
              "\n",
              "    .dataframe tbody tr th {\n",
              "        vertical-align: top;\n",
              "    }\n",
              "\n",
              "    .dataframe thead th {\n",
              "        text-align: right;\n",
              "    }\n",
              "</style>\n",
              "<table border=\"1\" class=\"dataframe\">\n",
              "  <thead>\n",
              "    <tr style=\"text-align: right;\">\n",
              "      <th></th>\n",
              "      <th>C0</th>\n",
              "      <th>C1</th>\n",
              "      <th>C2</th>\n",
              "      <th>C3</th>\n",
              "      <th>C4</th>\n",
              "      <th>C5</th>\n",
              "      <th>C6</th>\n",
              "      <th>C7</th>\n",
              "      <th>C8</th>\n",
              "      <th>C9</th>\n",
              "      <th>C10</th>\n",
              "    </tr>\n",
              "  </thead>\n",
              "  <tbody>\n",
              "    <tr>\n",
              "      <th>0</th>\n",
              "      <td>0.2</td>\n",
              "      <td>0.1</td>\n",
              "      <td>0.1</td>\n",
              "      <td>0.1</td>\n",
              "      <td>0.2</td>\n",
              "      <td>0.1</td>\n",
              "      <td>0.2</td>\n",
              "      <td>0.1</td>\n",
              "      <td>0.1</td>\n",
              "      <td>True</td>\n",
              "      <td>False</td>\n",
              "    </tr>\n",
              "    <tr>\n",
              "      <th>1</th>\n",
              "      <td>0.2</td>\n",
              "      <td>0.1</td>\n",
              "      <td>0.1</td>\n",
              "      <td>0.1</td>\n",
              "      <td>0.2</td>\n",
              "      <td>0.1</td>\n",
              "      <td>0.3</td>\n",
              "      <td>0.1</td>\n",
              "      <td>0.1</td>\n",
              "      <td>True</td>\n",
              "      <td>False</td>\n",
              "    </tr>\n",
              "    <tr>\n",
              "      <th>2</th>\n",
              "      <td>0.5</td>\n",
              "      <td>0.1</td>\n",
              "      <td>0.1</td>\n",
              "      <td>0.1</td>\n",
              "      <td>0.2</td>\n",
              "      <td>0.1</td>\n",
              "      <td>0.2</td>\n",
              "      <td>0.1</td>\n",
              "      <td>0.1</td>\n",
              "      <td>True</td>\n",
              "      <td>False</td>\n",
              "    </tr>\n",
              "    <tr>\n",
              "      <th>3</th>\n",
              "      <td>0.5</td>\n",
              "      <td>0.4</td>\n",
              "      <td>0.6</td>\n",
              "      <td>0.8</td>\n",
              "      <td>0.4</td>\n",
              "      <td>0.1</td>\n",
              "      <td>0.8</td>\n",
              "      <td>1.0</td>\n",
              "      <td>0.1</td>\n",
              "      <td>False</td>\n",
              "      <td>True</td>\n",
              "    </tr>\n",
              "    <tr>\n",
              "      <th>4</th>\n",
              "      <td>0.5</td>\n",
              "      <td>0.3</td>\n",
              "      <td>0.3</td>\n",
              "      <td>0.1</td>\n",
              "      <td>0.2</td>\n",
              "      <td>0.1</td>\n",
              "      <td>0.2</td>\n",
              "      <td>0.1</td>\n",
              "      <td>0.1</td>\n",
              "      <td>True</td>\n",
              "      <td>False</td>\n",
              "    </tr>\n",
              "    <tr>\n",
              "      <th>...</th>\n",
              "      <td>...</td>\n",
              "      <td>...</td>\n",
              "      <td>...</td>\n",
              "      <td>...</td>\n",
              "      <td>...</td>\n",
              "      <td>...</td>\n",
              "      <td>...</td>\n",
              "      <td>...</td>\n",
              "      <td>...</td>\n",
              "      <td>...</td>\n",
              "      <td>...</td>\n",
              "    </tr>\n",
              "    <tr>\n",
              "      <th>694</th>\n",
              "      <td>0.5</td>\n",
              "      <td>0.1</td>\n",
              "      <td>0.2</td>\n",
              "      <td>0.1</td>\n",
              "      <td>0.2</td>\n",
              "      <td>0.1</td>\n",
              "      <td>0.1</td>\n",
              "      <td>0.1</td>\n",
              "      <td>0.1</td>\n",
              "      <td>True</td>\n",
              "      <td>False</td>\n",
              "    </tr>\n",
              "    <tr>\n",
              "      <th>695</th>\n",
              "      <td>0.7</td>\n",
              "      <td>0.5</td>\n",
              "      <td>0.6</td>\n",
              "      <td>1.0</td>\n",
              "      <td>0.5</td>\n",
              "      <td>1.0</td>\n",
              "      <td>0.7</td>\n",
              "      <td>0.9</td>\n",
              "      <td>0.4</td>\n",
              "      <td>False</td>\n",
              "      <td>True</td>\n",
              "    </tr>\n",
              "    <tr>\n",
              "      <th>696</th>\n",
              "      <td>0.6</td>\n",
              "      <td>1.0</td>\n",
              "      <td>1.0</td>\n",
              "      <td>1.0</td>\n",
              "      <td>0.8</td>\n",
              "      <td>1.0</td>\n",
              "      <td>0.7</td>\n",
              "      <td>1.0</td>\n",
              "      <td>0.7</td>\n",
              "      <td>False</td>\n",
              "      <td>True</td>\n",
              "    </tr>\n",
              "    <tr>\n",
              "      <th>697</th>\n",
              "      <td>0.5</td>\n",
              "      <td>0.7</td>\n",
              "      <td>1.0</td>\n",
              "      <td>1.0</td>\n",
              "      <td>0.5</td>\n",
              "      <td>1.0</td>\n",
              "      <td>1.0</td>\n",
              "      <td>1.0</td>\n",
              "      <td>0.1</td>\n",
              "      <td>False</td>\n",
              "      <td>True</td>\n",
              "    </tr>\n",
              "    <tr>\n",
              "      <th>698</th>\n",
              "      <td>0.1</td>\n",
              "      <td>0.1</td>\n",
              "      <td>0.1</td>\n",
              "      <td>0.1</td>\n",
              "      <td>0.2</td>\n",
              "      <td>0.1</td>\n",
              "      <td>0.2</td>\n",
              "      <td>0.1</td>\n",
              "      <td>0.1</td>\n",
              "      <td>True</td>\n",
              "      <td>False</td>\n",
              "    </tr>\n",
              "  </tbody>\n",
              "</table>\n",
              "<p>699 rows × 11 columns</p>\n",
              "</div>"
            ],
            "text/plain": [
              "      C0   C1   C2   C3   C4   C5   C6   C7   C8     C9    C10\n",
              "0    0.2  0.1  0.1  0.1  0.2  0.1  0.2  0.1  0.1   True  False\n",
              "1    0.2  0.1  0.1  0.1  0.2  0.1  0.3  0.1  0.1   True  False\n",
              "2    0.5  0.1  0.1  0.1  0.2  0.1  0.2  0.1  0.1   True  False\n",
              "3    0.5  0.4  0.6  0.8  0.4  0.1  0.8  1.0  0.1  False   True\n",
              "4    0.5  0.3  0.3  0.1  0.2  0.1  0.2  0.1  0.1   True  False\n",
              "..   ...  ...  ...  ...  ...  ...  ...  ...  ...    ...    ...\n",
              "694  0.5  0.1  0.2  0.1  0.2  0.1  0.1  0.1  0.1   True  False\n",
              "695  0.7  0.5  0.6  1.0  0.5  1.0  0.7  0.9  0.4  False   True\n",
              "696  0.6  1.0  1.0  1.0  0.8  1.0  0.7  1.0  0.7  False   True\n",
              "697  0.5  0.7  1.0  1.0  0.5  1.0  1.0  1.0  0.1  False   True\n",
              "698  0.1  0.1  0.1  0.1  0.2  0.1  0.2  0.1  0.1   True  False\n",
              "\n",
              "[699 rows x 11 columns]"
            ]
          },
          "metadata": {
            "tags": []
          },
          "execution_count": 6
        }
      ]
    },
    {
      "cell_type": "markdown",
      "metadata": {
        "id": "6r5WwTq9kkJx"
      },
      "source": [
        "Разобъём выборку на тестовую и тренировочную."
      ]
    },
    {
      "cell_type": "code",
      "metadata": {
        "colab": {
          "base_uri": "https://localhost:8080/",
          "height": 417
        },
        "id": "UVq9oc63kx0v",
        "outputId": "9ec81b89-acef-41b2-fadc-b73cf9cc920c"
      },
      "source": [
        "y = df[['C9','C10']]\n",
        "y"
      ],
      "execution_count": 7,
      "outputs": [
        {
          "output_type": "execute_result",
          "data": {
            "text/html": [
              "<div>\n",
              "<style scoped>\n",
              "    .dataframe tbody tr th:only-of-type {\n",
              "        vertical-align: middle;\n",
              "    }\n",
              "\n",
              "    .dataframe tbody tr th {\n",
              "        vertical-align: top;\n",
              "    }\n",
              "\n",
              "    .dataframe thead th {\n",
              "        text-align: right;\n",
              "    }\n",
              "</style>\n",
              "<table border=\"1\" class=\"dataframe\">\n",
              "  <thead>\n",
              "    <tr style=\"text-align: right;\">\n",
              "      <th></th>\n",
              "      <th>C9</th>\n",
              "      <th>C10</th>\n",
              "    </tr>\n",
              "  </thead>\n",
              "  <tbody>\n",
              "    <tr>\n",
              "      <th>0</th>\n",
              "      <td>True</td>\n",
              "      <td>False</td>\n",
              "    </tr>\n",
              "    <tr>\n",
              "      <th>1</th>\n",
              "      <td>True</td>\n",
              "      <td>False</td>\n",
              "    </tr>\n",
              "    <tr>\n",
              "      <th>2</th>\n",
              "      <td>True</td>\n",
              "      <td>False</td>\n",
              "    </tr>\n",
              "    <tr>\n",
              "      <th>3</th>\n",
              "      <td>False</td>\n",
              "      <td>True</td>\n",
              "    </tr>\n",
              "    <tr>\n",
              "      <th>4</th>\n",
              "      <td>True</td>\n",
              "      <td>False</td>\n",
              "    </tr>\n",
              "    <tr>\n",
              "      <th>...</th>\n",
              "      <td>...</td>\n",
              "      <td>...</td>\n",
              "    </tr>\n",
              "    <tr>\n",
              "      <th>694</th>\n",
              "      <td>True</td>\n",
              "      <td>False</td>\n",
              "    </tr>\n",
              "    <tr>\n",
              "      <th>695</th>\n",
              "      <td>False</td>\n",
              "      <td>True</td>\n",
              "    </tr>\n",
              "    <tr>\n",
              "      <th>696</th>\n",
              "      <td>False</td>\n",
              "      <td>True</td>\n",
              "    </tr>\n",
              "    <tr>\n",
              "      <th>697</th>\n",
              "      <td>False</td>\n",
              "      <td>True</td>\n",
              "    </tr>\n",
              "    <tr>\n",
              "      <th>698</th>\n",
              "      <td>True</td>\n",
              "      <td>False</td>\n",
              "    </tr>\n",
              "  </tbody>\n",
              "</table>\n",
              "<p>699 rows × 2 columns</p>\n",
              "</div>"
            ],
            "text/plain": [
              "        C9    C10\n",
              "0     True  False\n",
              "1     True  False\n",
              "2     True  False\n",
              "3    False   True\n",
              "4     True  False\n",
              "..     ...    ...\n",
              "694   True  False\n",
              "695  False   True\n",
              "696  False   True\n",
              "697  False   True\n",
              "698   True  False\n",
              "\n",
              "[699 rows x 2 columns]"
            ]
          },
          "metadata": {
            "tags": []
          },
          "execution_count": 7
        }
      ]
    },
    {
      "cell_type": "markdown",
      "metadata": {
        "id": "PSByCSsrffVr"
      },
      "source": [
        "Предположим, что принадлежность к классу C9 исключает принадлежность к классу C10. Выведем ячейки, где C9 = C10."
      ]
    },
    {
      "cell_type": "code",
      "metadata": {
        "colab": {
          "base_uri": "https://localhost:8080/",
          "height": 49
        },
        "id": "XtpW1-kWVG9f",
        "outputId": "4200bf1e-5470-4d8a-8dee-9d4cab6bec99"
      },
      "source": [
        "y[y['C9']==y['C10']]"
      ],
      "execution_count": 8,
      "outputs": [
        {
          "output_type": "execute_result",
          "data": {
            "text/html": [
              "<div>\n",
              "<style scoped>\n",
              "    .dataframe tbody tr th:only-of-type {\n",
              "        vertical-align: middle;\n",
              "    }\n",
              "\n",
              "    .dataframe tbody tr th {\n",
              "        vertical-align: top;\n",
              "    }\n",
              "\n",
              "    .dataframe thead th {\n",
              "        text-align: right;\n",
              "    }\n",
              "</style>\n",
              "<table border=\"1\" class=\"dataframe\">\n",
              "  <thead>\n",
              "    <tr style=\"text-align: right;\">\n",
              "      <th></th>\n",
              "      <th>C9</th>\n",
              "      <th>C10</th>\n",
              "    </tr>\n",
              "  </thead>\n",
              "  <tbody>\n",
              "  </tbody>\n",
              "</table>\n",
              "</div>"
            ],
            "text/plain": [
              "Empty DataFrame\n",
              "Columns: [C9, C10]\n",
              "Index: []"
            ]
          },
          "metadata": {
            "tags": []
          },
          "execution_count": 8
        }
      ]
    },
    {
      "cell_type": "markdown",
      "metadata": {
        "id": "5bO3tUZhgDsu"
      },
      "source": [
        "Таких значений нет. Таким образом, гипотеза была верна и от одного из столбцов можно избавиться для упрощения вычислений."
      ]
    },
    {
      "cell_type": "code",
      "metadata": {
        "colab": {
          "base_uri": "https://localhost:8080/"
        },
        "id": "R-GpF87LgbHT",
        "outputId": "00952160-704e-48d1-fdfd-23cae5f839ae"
      },
      "source": [
        "y_monoclass = y.iloc[:,0].astype('int64')\n",
        "y_monoclass.head()"
      ],
      "execution_count": 9,
      "outputs": [
        {
          "output_type": "execute_result",
          "data": {
            "text/plain": [
              "0    1\n",
              "1    1\n",
              "2    1\n",
              "3    0\n",
              "4    1\n",
              "Name: C9, dtype: int64"
            ]
          },
          "metadata": {
            "tags": []
          },
          "execution_count": 9
        }
      ]
    },
    {
      "cell_type": "markdown",
      "metadata": {
        "id": "GGqx329Ogcqg"
      },
      "source": [
        "Теперь создадим датасет для входных данных классификатора."
      ]
    },
    {
      "cell_type": "code",
      "metadata": {
        "colab": {
          "base_uri": "https://localhost:8080/",
          "height": 417
        },
        "id": "yLgBiNLMnlyt",
        "outputId": "2388f9af-70eb-4811-8de5-7e378267375e"
      },
      "source": [
        "X = df.iloc[:, 0:9].copy()\n",
        "X"
      ],
      "execution_count": 10,
      "outputs": [
        {
          "output_type": "execute_result",
          "data": {
            "text/html": [
              "<div>\n",
              "<style scoped>\n",
              "    .dataframe tbody tr th:only-of-type {\n",
              "        vertical-align: middle;\n",
              "    }\n",
              "\n",
              "    .dataframe tbody tr th {\n",
              "        vertical-align: top;\n",
              "    }\n",
              "\n",
              "    .dataframe thead th {\n",
              "        text-align: right;\n",
              "    }\n",
              "</style>\n",
              "<table border=\"1\" class=\"dataframe\">\n",
              "  <thead>\n",
              "    <tr style=\"text-align: right;\">\n",
              "      <th></th>\n",
              "      <th>C0</th>\n",
              "      <th>C1</th>\n",
              "      <th>C2</th>\n",
              "      <th>C3</th>\n",
              "      <th>C4</th>\n",
              "      <th>C5</th>\n",
              "      <th>C6</th>\n",
              "      <th>C7</th>\n",
              "      <th>C8</th>\n",
              "    </tr>\n",
              "  </thead>\n",
              "  <tbody>\n",
              "    <tr>\n",
              "      <th>0</th>\n",
              "      <td>0.2</td>\n",
              "      <td>0.1</td>\n",
              "      <td>0.1</td>\n",
              "      <td>0.1</td>\n",
              "      <td>0.2</td>\n",
              "      <td>0.1</td>\n",
              "      <td>0.2</td>\n",
              "      <td>0.1</td>\n",
              "      <td>0.1</td>\n",
              "    </tr>\n",
              "    <tr>\n",
              "      <th>1</th>\n",
              "      <td>0.2</td>\n",
              "      <td>0.1</td>\n",
              "      <td>0.1</td>\n",
              "      <td>0.1</td>\n",
              "      <td>0.2</td>\n",
              "      <td>0.1</td>\n",
              "      <td>0.3</td>\n",
              "      <td>0.1</td>\n",
              "      <td>0.1</td>\n",
              "    </tr>\n",
              "    <tr>\n",
              "      <th>2</th>\n",
              "      <td>0.5</td>\n",
              "      <td>0.1</td>\n",
              "      <td>0.1</td>\n",
              "      <td>0.1</td>\n",
              "      <td>0.2</td>\n",
              "      <td>0.1</td>\n",
              "      <td>0.2</td>\n",
              "      <td>0.1</td>\n",
              "      <td>0.1</td>\n",
              "    </tr>\n",
              "    <tr>\n",
              "      <th>3</th>\n",
              "      <td>0.5</td>\n",
              "      <td>0.4</td>\n",
              "      <td>0.6</td>\n",
              "      <td>0.8</td>\n",
              "      <td>0.4</td>\n",
              "      <td>0.1</td>\n",
              "      <td>0.8</td>\n",
              "      <td>1.0</td>\n",
              "      <td>0.1</td>\n",
              "    </tr>\n",
              "    <tr>\n",
              "      <th>4</th>\n",
              "      <td>0.5</td>\n",
              "      <td>0.3</td>\n",
              "      <td>0.3</td>\n",
              "      <td>0.1</td>\n",
              "      <td>0.2</td>\n",
              "      <td>0.1</td>\n",
              "      <td>0.2</td>\n",
              "      <td>0.1</td>\n",
              "      <td>0.1</td>\n",
              "    </tr>\n",
              "    <tr>\n",
              "      <th>...</th>\n",
              "      <td>...</td>\n",
              "      <td>...</td>\n",
              "      <td>...</td>\n",
              "      <td>...</td>\n",
              "      <td>...</td>\n",
              "      <td>...</td>\n",
              "      <td>...</td>\n",
              "      <td>...</td>\n",
              "      <td>...</td>\n",
              "    </tr>\n",
              "    <tr>\n",
              "      <th>694</th>\n",
              "      <td>0.5</td>\n",
              "      <td>0.1</td>\n",
              "      <td>0.2</td>\n",
              "      <td>0.1</td>\n",
              "      <td>0.2</td>\n",
              "      <td>0.1</td>\n",
              "      <td>0.1</td>\n",
              "      <td>0.1</td>\n",
              "      <td>0.1</td>\n",
              "    </tr>\n",
              "    <tr>\n",
              "      <th>695</th>\n",
              "      <td>0.7</td>\n",
              "      <td>0.5</td>\n",
              "      <td>0.6</td>\n",
              "      <td>1.0</td>\n",
              "      <td>0.5</td>\n",
              "      <td>1.0</td>\n",
              "      <td>0.7</td>\n",
              "      <td>0.9</td>\n",
              "      <td>0.4</td>\n",
              "    </tr>\n",
              "    <tr>\n",
              "      <th>696</th>\n",
              "      <td>0.6</td>\n",
              "      <td>1.0</td>\n",
              "      <td>1.0</td>\n",
              "      <td>1.0</td>\n",
              "      <td>0.8</td>\n",
              "      <td>1.0</td>\n",
              "      <td>0.7</td>\n",
              "      <td>1.0</td>\n",
              "      <td>0.7</td>\n",
              "    </tr>\n",
              "    <tr>\n",
              "      <th>697</th>\n",
              "      <td>0.5</td>\n",
              "      <td>0.7</td>\n",
              "      <td>1.0</td>\n",
              "      <td>1.0</td>\n",
              "      <td>0.5</td>\n",
              "      <td>1.0</td>\n",
              "      <td>1.0</td>\n",
              "      <td>1.0</td>\n",
              "      <td>0.1</td>\n",
              "    </tr>\n",
              "    <tr>\n",
              "      <th>698</th>\n",
              "      <td>0.1</td>\n",
              "      <td>0.1</td>\n",
              "      <td>0.1</td>\n",
              "      <td>0.1</td>\n",
              "      <td>0.2</td>\n",
              "      <td>0.1</td>\n",
              "      <td>0.2</td>\n",
              "      <td>0.1</td>\n",
              "      <td>0.1</td>\n",
              "    </tr>\n",
              "  </tbody>\n",
              "</table>\n",
              "<p>699 rows × 9 columns</p>\n",
              "</div>"
            ],
            "text/plain": [
              "      C0   C1   C2   C3   C4   C5   C6   C7   C8\n",
              "0    0.2  0.1  0.1  0.1  0.2  0.1  0.2  0.1  0.1\n",
              "1    0.2  0.1  0.1  0.1  0.2  0.1  0.3  0.1  0.1\n",
              "2    0.5  0.1  0.1  0.1  0.2  0.1  0.2  0.1  0.1\n",
              "3    0.5  0.4  0.6  0.8  0.4  0.1  0.8  1.0  0.1\n",
              "4    0.5  0.3  0.3  0.1  0.2  0.1  0.2  0.1  0.1\n",
              "..   ...  ...  ...  ...  ...  ...  ...  ...  ...\n",
              "694  0.5  0.1  0.2  0.1  0.2  0.1  0.1  0.1  0.1\n",
              "695  0.7  0.5  0.6  1.0  0.5  1.0  0.7  0.9  0.4\n",
              "696  0.6  1.0  1.0  1.0  0.8  1.0  0.7  1.0  0.7\n",
              "697  0.5  0.7  1.0  1.0  0.5  1.0  1.0  1.0  0.1\n",
              "698  0.1  0.1  0.1  0.1  0.2  0.1  0.2  0.1  0.1\n",
              "\n",
              "[699 rows x 9 columns]"
            ]
          },
          "metadata": {
            "tags": []
          },
          "execution_count": 10
        }
      ]
    },
    {
      "cell_type": "code",
      "metadata": {
        "colab": {
          "base_uri": "https://localhost:8080/"
        },
        "id": "o37JgF8Gqtqz",
        "outputId": "6ed88a1a-7f90-4823-ccb2-33b2bc3b3dca"
      },
      "source": [
        "X.info()"
      ],
      "execution_count": 11,
      "outputs": [
        {
          "output_type": "stream",
          "text": [
            "<class 'pandas.core.frame.DataFrame'>\n",
            "RangeIndex: 699 entries, 0 to 698\n",
            "Data columns (total 9 columns):\n",
            " #   Column  Non-Null Count  Dtype  \n",
            "---  ------  --------------  -----  \n",
            " 0   C0      699 non-null    object \n",
            " 1   C1      699 non-null    float64\n",
            " 2   C2      699 non-null    float64\n",
            " 3   C3      699 non-null    float64\n",
            " 4   C4      699 non-null    float64\n",
            " 5   C5      699 non-null    float64\n",
            " 6   C6      699 non-null    float64\n",
            " 7   C7      699 non-null    float64\n",
            " 8   C8      699 non-null    float64\n",
            "dtypes: float64(8), object(1)\n",
            "memory usage: 49.3+ KB\n"
          ],
          "name": "stdout"
        }
      ]
    },
    {
      "cell_type": "markdown",
      "metadata": {
        "id": "-EZbFFa0g5ll"
      },
      "source": [
        "Преобразуем первый столбец (столбец с индексом 0) к числовому типу."
      ]
    },
    {
      "cell_type": "code",
      "metadata": {
        "colab": {
          "base_uri": "https://localhost:8080/"
        },
        "id": "RrZSeuAnqyNA",
        "outputId": "e6e62932-49f9-49e6-b67c-5bd1aa15f7e5"
      },
      "source": [
        "X=X.astype('float64')\n",
        "X.info()"
      ],
      "execution_count": 12,
      "outputs": [
        {
          "output_type": "stream",
          "text": [
            "<class 'pandas.core.frame.DataFrame'>\n",
            "RangeIndex: 699 entries, 0 to 698\n",
            "Data columns (total 9 columns):\n",
            " #   Column  Non-Null Count  Dtype  \n",
            "---  ------  --------------  -----  \n",
            " 0   C0      699 non-null    float64\n",
            " 1   C1      699 non-null    float64\n",
            " 2   C2      699 non-null    float64\n",
            " 3   C3      699 non-null    float64\n",
            " 4   C4      699 non-null    float64\n",
            " 5   C5      699 non-null    float64\n",
            " 6   C6      699 non-null    float64\n",
            " 7   C7      699 non-null    float64\n",
            " 8   C8      699 non-null    float64\n",
            "dtypes: float64(9)\n",
            "memory usage: 49.3 KB\n"
          ],
          "name": "stdout"
        }
      ]
    },
    {
      "cell_type": "markdown",
      "metadata": {
        "id": "eXs7AkSWhYSo"
      },
      "source": [
        "Разделим входные и выходные данные на тренировочную и тестовую выборки с соотношением 80/20 соответственно."
      ]
    },
    {
      "cell_type": "code",
      "metadata": {
        "id": "wKwQoHqEldfl"
      },
      "source": [
        "from sklearn.model_selection import train_test_split\n",
        "\n",
        "y_train,y_test,X_train,X_test = train_test_split(y_monoclass,X,train_size = 0.8, random_state = 3)"
      ],
      "execution_count": 13,
      "outputs": []
    },
    {
      "cell_type": "markdown",
      "metadata": {
        "id": "9Czk9pi_g-3v"
      },
      "source": [
        "Добавим сигмоидальную функцию активации."
      ]
    },
    {
      "cell_type": "code",
      "metadata": {
        "id": "GeeE85Xmg-En"
      },
      "source": [
        "import numpy as np\n",
        "\n",
        "def sigmoid(x):\n",
        "  s = np.array(x)\n",
        "  s = 1/(1+np.exp(-s))\n",
        "  return s"
      ],
      "execution_count": 14,
      "outputs": []
    },
    {
      "cell_type": "markdown",
      "metadata": {
        "id": "gusLP4BMv0ZJ"
      },
      "source": [
        "Зададим класс нейронной сети."
      ]
    },
    {
      "cell_type": "code",
      "metadata": {
        "id": "8hZWOrQ6tD70"
      },
      "source": [
        "# Класс для ИНС\n",
        "class NN:\n",
        "  fitness = 0.0\n",
        "  def __init__(self, nn_shape=None):\n",
        "    # Структура сети для информации\n",
        "    self.nn_shape = nn_shape\n",
        "    # Нейроны\n",
        "    self.neurons = []\n",
        "    # Веса нейронных связей\n",
        "    self.w = []\n",
        "    # Смещение нейрона (bias)\n",
        "    self.b = []\n",
        "    if nn_shape != None:\n",
        "      ## сделать throw exception, если len(nn_shape) == 1\n",
        "      # инициализируем нейроны\n",
        "      for layer in nn_shape:\n",
        "        self.neurons.append(np.zeros(layer))\n",
        "        \n",
        "      # инициализируем смещения\n",
        "      for i in range(1,len(nn_shape)):\n",
        "        self.b.append(np.random.uniform(low=-0.2, high=0.2, size=(nn_shape[i])))\n",
        "      ## Иницииализируем связи\n",
        "      for i in range(1,len(nn_shape)):\n",
        "        self.w.append(np.random.uniform(low=-0.5, high=0.5, size=(nn_shape[i],nn_shape[i-1])))\n",
        "\n",
        "  def sigmoid(x):\n",
        "    s = np.array(x)\n",
        "    s = 1/(1+np.exp(-s))\n",
        "    return s\n",
        "\n",
        "  def forward_propagation(self,data):\n",
        "    if len(data) == len(self.neurons[0]):\n",
        "      self.neurons[0][:]=data[:]\n",
        "\n",
        "      for i in range(1,len(self.neurons)):\n",
        "        for j in range(len(self.neurons[i])):\n",
        "          self.neurons[i][j]=sigmoid(np.dot(self.neurons[i-1],self.w[i-1][j])+self.b[i-1][j])\n",
        "    return self.neurons[-1]\n",
        "\n",
        "  # Гауссовская мутация\n",
        "  def mutation(self):\n",
        "    layer_num_out = np.random.randint(1,len(self.neurons))\n",
        "    neur_out = np.random.randint(0,len(self.neurons[layer_num_out]))\n",
        "    neur_in = np.random.randint(0,len(self.neurons[layer_num_out-1]))\n",
        "    self.w[layer_num_out-1][neur_out][neur_in] += np.random.normal(loc=0,scale=2)\n",
        "\n",
        "  def __str__(self):\n",
        "    return f'NN of shape {self.nn_shape}'\n",
        "\n",
        "  def print_weights(self):\n",
        "    print(self.w)\n",
        "  \n",
        "  def print_bias(self):\n",
        "    print(self.b)\n",
        "\n",
        "  def print_neurons(self):\n",
        "    print(self.neurons)\n"
      ],
      "execution_count": 15,
      "outputs": []
    },
    {
      "cell_type": "markdown",
      "metadata": {
        "id": "5-ZLc1N_h9d8"
      },
      "source": [
        "$BLX-{\\alpha}$ кроссинговер."
      ]
    },
    {
      "cell_type": "code",
      "metadata": {
        "id": "NAv8f3b5UnDV"
      },
      "source": [
        "def crossbreeding(nn_1,nn_2,alpha):\n",
        "  nn_of_1 = NN(nn_shape=nn_1.nn_shape)\n",
        "  nn_of_2 = NN(nn_shape=nn_2.nn_shape)\n",
        "\n",
        "  for i in range(len(nn_1.w)):\n",
        "    for j in range(len(nn_1.w[i])):\n",
        "      for k in range(len(nn_1.w[i][j])):\n",
        "        c_min = np.minimum(nn_1.w[i][j][k],nn_2.w[i][j][k])\n",
        "        c_max = np.maximum(nn_1.w[i][j][k],nn_2.w[i][j][k])\n",
        "        delat_k = c_max-c_min\n",
        "        nn_of_1.w[i][j][k] = np.random.uniform(c_min-delat_k*alpha,c_max-delat_k*alpha) \n",
        "        nn_of_2.w[i][j][k] = np.random.uniform(c_min-delat_k*alpha,c_max-delat_k*alpha)\n",
        "\n",
        "  return nn_of_1, nn_of_2"
      ],
      "execution_count": 16,
      "outputs": []
    },
    {
      "cell_type": "markdown",
      "metadata": {
        "id": "Kaa1_SO0ikPa"
      },
      "source": [
        "Функция для прямого распространения в ансамбле ИНС."
      ]
    },
    {
      "cell_type": "code",
      "metadata": {
        "id": "rdgjnk_4dSfY"
      },
      "source": [
        "def forward_prop_ensemble(ensemble,X):\n",
        "  for count in range(len(ensemble)):\n",
        "      ensemble[count].forward_propagation(X)"
      ],
      "execution_count": 17,
      "outputs": []
    },
    {
      "cell_type": "markdown",
      "metadata": {
        "id": "9BPglN5cizrT"
      },
      "source": [
        "\"Голосование\" ансамбля ИНС (результат вероятность)."
      ]
    },
    {
      "cell_type": "code",
      "metadata": {
        "id": "x0CXO6VHd4X6"
      },
      "source": [
        "def ensemble_bagging_preds(ensemble):\n",
        "  F = 0\n",
        "  for count in range(len(ensemble)):\n",
        "    F += np.sum(ensemble[count].neurons[-1])/len(ensemble)\n",
        "  return F"
      ],
      "execution_count": 18,
      "outputs": []
    },
    {
      "cell_type": "markdown",
      "metadata": {
        "id": "3rXmcsl1jKPQ"
      },
      "source": [
        "\"Голосование\" ансамбля ИНС (дискретный результат - 0 или 1)."
      ]
    },
    {
      "cell_type": "code",
      "metadata": {
        "id": "JWRxnVp5k3OP"
      },
      "source": [
        "def ensemble_bagging(ensemble):\n",
        "  F = 0\n",
        "  for count in range(len(ensemble)):\n",
        "    F += np.sum(ensemble[count].neurons[-1])/len(ensemble)\n",
        "  if F>0.5:\n",
        "    return 1\n",
        "  else:\n",
        "    return 0"
      ],
      "execution_count": 19,
      "outputs": []
    },
    {
      "cell_type": "markdown",
      "metadata": {
        "id": "2ZvXmvqpl3C3"
      },
      "source": [
        "Функция для оценивания точности обученного классификатора на тестовой выборке."
      ]
    },
    {
      "cell_type": "code",
      "metadata": {
        "id": "usHB8JBUl4jT"
      },
      "source": [
        "def ensemble_est(ensemble,X,y):\n",
        "  # размер тестового датасета\n",
        "  data_set_size = y.shape[0]\n",
        "  # количество правильно классифицированных случаев\n",
        "  correct = 0\n",
        "  for i in range(data_set_size):\n",
        "    for count in range(len(ensemble)):\n",
        "      population[count].forward_propagation(X.iloc[i,:].to_numpy())\n",
        "    prediction = ensemble_bagging(ensemble)\n",
        "    if prediction == y.iloc[i]:\n",
        "      correct +=1\n",
        "  accuracy = correct/data_set_size*100\n",
        "  print(f'accuracy: {accuracy}%')\n",
        "  return accuracy"
      ],
      "execution_count": 20,
      "outputs": []
    },
    {
      "cell_type": "markdown",
      "metadata": {
        "id": "-15HbCOXjn_6"
      },
      "source": [
        "Основной алгоритм"
      ]
    },
    {
      "cell_type": "code",
      "metadata": {
        "colab": {
          "base_uri": "https://localhost:8080/"
        },
        "id": "0doL45lrCUMy",
        "outputId": "3d373604-fb2f-4700-8fa0-5971916d08e6"
      },
      "source": [
        "# количество циклов эволюции\n",
        "evolution_cycles = 500\n",
        "\n",
        "# структура нейронной сети\n",
        "nn_structure = (9,6,6,1)\n",
        "\n",
        "# количество нейронных сетей в популяции\n",
        "M_nn = 10\n",
        "\n",
        "# формирование начальной популяции\n",
        "population = []\n",
        "\n",
        "# Обучающая выборка\n",
        "N=10\n",
        "\n",
        "# Константа корреляции\n",
        "lam = 0.4\n",
        "\n",
        "# константа BLX-a кроссинговера\n",
        "alpha = 0.5\n",
        "\n",
        "# количество мутаций\n",
        "mutations_counts = 2\n",
        "\n",
        "model_accuracy_array = []\n",
        "epochs_array = []\n",
        "\n",
        "# инициализация начальной популяции\n",
        "for count in range(M_nn):\n",
        "  neural_network = NN(nn_shape=nn_structure)\n",
        "  population.append(neural_network)\n",
        "\n",
        "error_f = np.zeros(len(population))\n",
        "\n",
        "for epoch in range(evolution_cycles):\n",
        "\n",
        "  \n",
        "\n",
        "  sort_indx = error_f.argsort() # индексы отсортированных элементов\n",
        "\n",
        "  # получаем двух особей усечением (лучшая половина популяции)\n",
        "  individual_1 = 0\n",
        "  individual_2 = 0\n",
        "  while individual_1 == individual_2:\n",
        "    individual_1 = np.random.randint(0,M_nn/2)\n",
        "    individual_2 = np.random.randint(0,M_nn/2)\n",
        "\n",
        "  # Кроссинговер BLX-a. Получаем двух потомков от двух родителей\n",
        "  nn_of_1,nn_of_2=crossbreeding(population[sort_indx[individual_1]],population[sort_indx[individual_2]],alpha)\n",
        "\n",
        "# Удаляем особи с наибольшим значением функции ошибки\n",
        "  if sort_indx[-1]>sort_indx[-2]:\n",
        "    population.remove(population[sort_indx[-1]])\n",
        "    population.remove(population[sort_indx[-2]])\n",
        "  else:\n",
        "    population.remove(population[sort_indx[-2]])\n",
        "    population.remove(population[sort_indx[-1]])\n",
        "\n",
        "  population.append(nn_of_1)\n",
        "  population.append(nn_of_2)\n",
        "\n",
        "  # Гауссовская мутация\n",
        "  for mut_count in range(mutations_counts):\n",
        "    mut = np.random.randint(0,len(population))\n",
        "    population[mut].mutation()\n",
        "  # Обнулим значения в массиве значений функции ошибок\n",
        "  error_f[:]=0\n",
        "  # Цикл обучения\n",
        "  for learning_cycle in range(N):\n",
        "    #выбираем случайный индекс элемент тренировочного датасета\n",
        "    df_index = np.random.randint(0,X_train.shape[0])\n",
        "    # входные данные\n",
        "    piece_of_data = X_train.iloc[df_index,:].to_numpy()\n",
        "    # желаемый отклик\n",
        "    d = y_train.iloc[df_index]\n",
        "    p = np.zeros_like(error_f)\n",
        "    # прямое распространение для всей популяции\n",
        "    forward_prop_ensemble(population,piece_of_data)\n",
        "\n",
        "    # общий вывод популяции\n",
        "    F = ensemble_bagging_preds(population)\n",
        "\n",
        "    # расчёт функции корреляционного штрафа\n",
        "    for count in range(len(population)):\n",
        "      for count_p in range(len(population)):\n",
        "        if count_p != count:\n",
        "          p[count] += (population[count].neurons[-1]-F)*(population[count_p].neurons[-1]-F)\n",
        "      error_f[count]+=1/N/2*(population[count].neurons[-1]-d)**2+1/N*lam*p[count]\n",
        "  if epoch%50==0:\n",
        "    epochs_array.append(epoch)\n",
        "    print(f'epoch: {epoch}')\n",
        "    model_accuracy_array.append(ensemble_est(population,X_test,y_test))\n"
      ],
      "execution_count": 21,
      "outputs": [
        {
          "output_type": "stream",
          "text": [
            "epoch: 0\n",
            "accuracy: 34.285714285714285%\n",
            "epoch: 50\n",
            "accuracy: 70.0%\n",
            "epoch: 100\n",
            "accuracy: 95.71428571428572%\n",
            "epoch: 150\n",
            "accuracy: 96.42857142857143%\n",
            "epoch: 200\n",
            "accuracy: 95.71428571428572%\n",
            "epoch: 250\n",
            "accuracy: 93.57142857142857%\n",
            "epoch: 300\n",
            "accuracy: 91.42857142857143%\n",
            "epoch: 350\n",
            "accuracy: 93.57142857142857%\n",
            "epoch: 400\n",
            "accuracy: 94.28571428571428%\n",
            "epoch: 450\n",
            "accuracy: 93.57142857142857%\n"
          ],
          "name": "stdout"
        }
      ]
    },
    {
      "cell_type": "markdown",
      "metadata": {
        "id": "jeQLiBrscgBV"
      },
      "source": [
        "Далее оценим точность классификатора на тестовой выборке."
      ]
    },
    {
      "cell_type": "code",
      "metadata": {
        "colab": {
          "base_uri": "https://localhost:8080/"
        },
        "id": "d7eF801Voy-0",
        "outputId": "1eddc74e-eac0-47cd-b7b2-d0023c5f396d"
      },
      "source": [
        "ensemble_est(population,X_test,y_test)"
      ],
      "execution_count": 22,
      "outputs": [
        {
          "output_type": "stream",
          "text": [
            "accuracy: 90.71428571428571%\n"
          ],
          "name": "stdout"
        },
        {
          "output_type": "execute_result",
          "data": {
            "text/plain": [
              "90.71428571428571"
            ]
          },
          "metadata": {
            "tags": []
          },
          "execution_count": 22
        }
      ]
    },
    {
      "cell_type": "markdown",
      "metadata": {
        "id": "nIuyeKmGu0jP"
      },
      "source": [
        "График обучения"
      ]
    },
    {
      "cell_type": "code",
      "metadata": {
        "colab": {
          "base_uri": "https://localhost:8080/",
          "height": 279
        },
        "id": "V_2L7gzBu0_m",
        "outputId": "ed3225c2-3c81-41dd-ceb5-f4095a7d3e1e"
      },
      "source": [
        "import matplotlib.pyplot as plt\n",
        "\n",
        "plt.plot(epochs_array, model_accuracy_array, c='blue')\n",
        "plt.xlabel('Epoch')\n",
        "plt.ylabel('Accuracy')\n",
        "plt.show()"
      ],
      "execution_count": 25,
      "outputs": [
        {
          "output_type": "display_data",
          "data": {
            "image/png": "[encoded data removed]",
            "text/plain": [
              "<Figure size 432x288 with 1 Axes>"
            ]
          },
          "metadata": {
            "tags": [],
            "needs_background": "light"
          }
        }
      ]
    },
    {
      "cell_type": "markdown",
      "metadata": {
        "id": "R0ueErKKfOOB"
      },
      "source": [
        "Демонстрация вероятностного вывода."
      ]
    },
    {
      "cell_type": "code",
      "metadata": {
        "colab": {
          "base_uri": "https://localhost:8080/"
        },
        "id": "TVRJlTvtfHx3",
        "outputId": "ecefffd2-16cf-4bca-916a-1770659da779"
      },
      "source": [
        "df_index = np.random.randint(0,X_test.shape[0])\n",
        "piece_of_data = X_test.iloc[df_index,:].to_numpy()\n",
        "d = y_test.iloc[df_index]\n",
        "for count in range(len(population)):\n",
        "  population[count].forward_propagation(piece_of_data)\n",
        "F = ensemble_bagging_preds(population)\n",
        "print(d)\n",
        "print(F)"
      ],
      "execution_count": 24,
      "outputs": [
        {
          "output_type": "stream",
          "text": [
            "1\n",
            "0.6800715515811953\n"
          ],
          "name": "stdout"
        }
      ]
    },
    {
      "cell_type": "markdown",
      "metadata": {
        "id": "S7OrShgazki4"
      },
      "source": [
        "Функция для вывода весов связей в отдельный файл."
      ]
    },
    {
      "cell_type": "code",
      "metadata": {
        "id": "yKO55gIAz89M"
      },
      "source": [
        "def save_weights(ensemble):\n",
        "  file = open('NN_ensemble_structure.txt','w')\n",
        "  for nn in range(len(ensemble)):\n",
        "    file.write('\\n########################\\n')\n",
        "    for i in range(len(ensemble[nn].w)):\n",
        "      for j in range(len(ensemble[nn].w[i])):\n",
        "        for k in range(len(ensemble[nn].w[i][j])):\n",
        "          file.write(str(ensemble[nn].w[i][j][k])+' ')\n",
        "        file.write('\\n')\n",
        "  file.close()\n"
      ],
      "execution_count": 36,
      "outputs": []
    },
    {
      "cell_type": "code",
      "metadata": {
        "id": "I7XtDK9b2CJn"
      },
      "source": [
        "save_weights(population)"
      ],
      "execution_count": 37,
      "outputs": []
    },
    {
      "cell_type": "markdown",
      "metadata": {
        "id": "r2MkTsZq4Lik"
      },
      "source": [
        "Функция для записи весов смещения."
      ]
    },
    {
      "cell_type": "code",
      "metadata": {
        "id": "Wp7AEXYC2EJK"
      },
      "source": [
        "def save_bias(ensemble):\n",
        "  file = open('NN_ensemble_bias.txt','w')\n",
        "  for nn in range(len(ensemble)):\n",
        "    file.write('\\n########################\\n')\n",
        "    for i in range(len(ensemble[nn].b)):\n",
        "      for j in range(len(ensemble[nn].b[i])):\n",
        "        file.write(str(ensemble[nn].b[i][j])+' ')\n",
        "      file.write('\\n')\n",
        "  file.close()"
      ],
      "execution_count": 38,
      "outputs": []
    },
    {
      "cell_type": "code",
      "metadata": {
        "id": "9T5UPXFj4m54"
      },
      "source": [
        "save_bias(population)"
      ],
      "execution_count": 39,
      "outputs": []
    }
  ]
}